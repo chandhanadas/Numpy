{
 "cells": [
  {
   "cell_type": "code",
   "execution_count": 1,
   "id": "8020043c-af18-4de7-baba-5697a9102026",
   "metadata": {},
   "outputs": [
    {
     "name": "stdout",
     "output_type": "stream",
     "text": [
      "Marks Matrix (first 5 students):\n",
      " [[81 44 90 50 53]\n",
      " [32 51 82 31 59]\n",
      " [67 31 93 89 50]\n",
      " [62 87 51 78 88]\n",
      " [71 89 44 91 91]]\n",
      "\n",
      " Student Marks Analysis:\n",
      "\n",
      "Average Marks per Student (first 5):\n",
      "Student 1: 63.60\n",
      "Student 2: 51.00\n",
      "Student 3: 66.00\n",
      "Student 4: 73.20\n",
      "Student 5: 77.20\n",
      "\n",
      "Average Marks per Subject:\n",
      "Math: 64.68\n",
      "Physics: 64.30\n",
      "Chemistry: 63.28\n",
      "English: 64.67\n",
      "Computer: 66.47\n",
      "\n",
      " Best Student: Student 6 with Avg = 84.80\n",
      "Toughest Subject: Chemistry (Avg = 63.28)\n"
     ]
    }
   ],
   "source": [
    "import numpy as np\n",
    "\n",
    "# Step 1: Setup\n",
    "np.random.seed(42)  # reproducibility\n",
    "num_students = 100\n",
    "num_subjects = 5\n",
    "subjects = [\"Math\", \"Physics\", \"Chemistry\", \"English\", \"Computer\"]\n",
    "\n",
    "# Step 2: Generate random marks (0–100)\n",
    "marks = np.random.randint(30, 101, size=(num_students, num_subjects))  # (100 x 5)\n",
    "\n",
    "print(\"Marks Matrix (first 5 students):\\n\", marks[:5])\n",
    "\n",
    "# Step 3: Average per student (row-wise)\n",
    "avg_per_student = np.mean(marks, axis=1)\n",
    "\n",
    "# Step 4: Average per subject (column-wise)\n",
    "avg_per_subject = np.mean(marks, axis=0)\n",
    "\n",
    "# Step 5: Highest scorer (overall)\n",
    "best_student_idx = np.argmax(avg_per_student)\n",
    "best_student_score = avg_per_student[best_student_idx]\n",
    "\n",
    "# Step 6: Subject difficulty (lowest avg score)\n",
    "toughest_subject_idx = np.argmin(avg_per_subject)\n",
    "\n",
    "# Step 7: Display Insights\n",
    "print(\"\\n Student Marks Analysis:\")\n",
    "\n",
    "print(\"\\nAverage Marks per Student (first 5):\")\n",
    "for i in range(5):\n",
    "    print(f\"Student {i+1}: {avg_per_student[i]:.2f}\")\n",
    "\n",
    "print(\"\\nAverage Marks per Subject:\")\n",
    "for subj, avg in zip(subjects, avg_per_subject):\n",
    "    print(f\"{subj}: {avg:.2f}\")\n",
    "\n",
    "print(f\"\\n Best Student: Student {best_student_idx+1} \"\n",
    "      f\"with Avg = {best_student_score:.2f}\")\n",
    "\n",
    "print(f\"Toughest Subject: {subjects[toughest_subject_idx]} \"\n",
    "      f\"(Avg = {avg_per_subject[toughest_subject_idx]:.2f})\")\n"
   ]
  },
  {
   "cell_type": "code",
   "execution_count": null,
   "id": "7bafa451-aec9-407e-b2aa-d5547d258d3b",
   "metadata": {},
   "outputs": [],
   "source": []
  }
 ],
 "metadata": {
  "kernelspec": {
   "display_name": "Python [conda env:base] *",
   "language": "python",
   "name": "conda-base-py"
  },
  "language_info": {
   "codemirror_mode": {
    "name": "ipython",
    "version": 3
   },
   "file_extension": ".py",
   "mimetype": "text/x-python",
   "name": "python",
   "nbconvert_exporter": "python",
   "pygments_lexer": "ipython3",
   "version": "3.13.5"
  }
 },
 "nbformat": 4,
 "nbformat_minor": 5
}
